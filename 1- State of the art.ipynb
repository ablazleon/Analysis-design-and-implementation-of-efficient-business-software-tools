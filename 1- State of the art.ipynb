{
  "nbformat": 4,
  "nbformat_minor": 0,
  "metadata": {
    "kernelspec": {
      "display_name": "Python 3",
      "language": "python",
      "name": "python3"
    },
    "language_info": {
      "codemirror_mode": {
        "name": "ipython",
        "version": 3
      },
      "file_extension": ".py",
      "mimetype": "text/x-python",
      "name": "python",
      "nbconvert_exporter": "python",
      "pygments_lexer": "ipython3",
      "version": "3.7.6"
    },
    "colab": {
      "name": "1- State of the art.ipynb",
      "provenance": []
    }
  },
  "cells": [
    {
      "cell_type": "markdown",
      "metadata": {
        "id": "SX4ck0TAVQ2T"
      },
      "source": [
        "# Analyze, design and implementation of a service ecommerce in the cloud\n",
        "\n",
        "## 1- State of the art\n",
        "\n",
        "Automatizar tareas regala tiempo a las personas: facilitar el acceso a información o evitar treas repetitivas. En el contexto actual, se han identificado ciertas iniciativas que manifiestan que el software en el contexto empresarial no es accesible para todas las empresas, en particular, para aquellas pequeñas (por planes estateales de inversión como AceleraPyme).\n",
        "\n",
        "En este cuaderno de jupyter se anliza en base a datos la fase \"what is?\" del ciclo de \"Design Thinking\": se investigan las necesidades del usuario. Para ello se realzian tres discusiones. \n",
        "1- Primero se discute, presentando en una gráfica, la relación entre procesos de negocio, herramientas y precios ¿Qué procesos de negocio se han identificado? ¿Qué herramientas se han encontrado en el mercado (español, en concreto en Madrid) que implementen estos procesos de negocio? ¿Y qué precio tienen?\n",
        "2- A continuación, se discute una segunda dimensión en el debate sobre la relación entre procesos de negocio y herramientas: de estas herramientas, cuál es la relación entre el uso de cada herrmienta y su estructura de coste.\n",
        "\n",
        "=> cómo minimizar coste: soluicoens kubenrtes están siempre enceisdades\n",
        "\n",
        "QUé stack?\n",
        "\n",
        "db + servelress\n",
        "=> es lo más rápido\n",
        "GCP, más barato que otras, más fácil de instlar\n",
        "\n",
        "\n",
        "- https://www.interaction-design.org/literature/topics/design-thinking\n",
        "- https://www.stackrox.com/post/2021/01/eks-vs-gke-vs-aks-jan2021/\n",
        "- http://comparecloud.in/\n",
        "\n",
        "| Procesos de negocio vs Herramienta     | Description | Test Text     |\n",
        "| :---        |    :----   |         : --- |\n",
        "| 1. Tienda online      | Title       | Here's this   |\n",
        "| 1.1. Constructor de sitios web (CMS) + catálogo  | Text        | And more      |\n",
        "| 1.2. Integración con plataforma de pago    | Title       | Here's this   |\n",
        "| 1.3. Seguimiento de paquetes   | Text        | And more      |\n",
        "| 2. Gestión de operaciones      | Title       | Here's this   |\n",
        "| 2.1. Visualización de stock   | Text        | And more      |\n",
        "| 2.2. Integración con el pedido de la tienda   | Text        | And more      |\n",
        "| 2.3. Generación de alertas para comprar a proveedores   | Text        | And more      |\n",
        "| 2.4. Generación de facturas   | Text        | And more      |\n",
        "| 2.5. Facilidad con la que cambiar todas las descripciones de los productos de una   | Text        | And more      |\n",
        "| 3. Automatización de marketing   | Text        | And more      |\n",
        "| 3.1. Generación y envío de correos, como newsletter   | Text        | And more      |\n",
        "| 3.2. Integración con isntagram   | Text        | And more      |\n",
        "| Precio del servicio   | Text        | And more      |\n",
        "| Comentario   | Text        | And more      |"
      ]
    },
    {
      "cell_type": "code",
      "metadata": {
        "id": "LkdhKH40iADf"
      },
      "source": [
        ""
      ],
      "execution_count": null,
      "outputs": []
    }
  ]
}